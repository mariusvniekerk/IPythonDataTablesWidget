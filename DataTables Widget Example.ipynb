{
 "metadata": {
  "name": "",
  "signature": "sha256:acb20cada9876b25f2817bb2fa7940f2e1dfe54c2eb1e53181659a109c6e9ea7"
 },
 "nbformat": 3,
 "nbformat_minor": 0,
 "worksheets": [
  {
   "cells": [
    {
     "cell_type": "markdown",
     "metadata": {},
     "source": [
      "# DataTables Widget Example"
     ]
    },
    {
     "cell_type": "markdown",
     "metadata": {},
     "source": [
      "> <i class=\"icon icon-info-sign icon-2x\"></i> Execute each of these cells in order, such as with <label class=\"label\">Shift+Enter</label>"
     ]
    },
    {
     "cell_type": "markdown",
     "metadata": {},
     "source": [
      "First, load your `DataTablesWidget` from your module:"
     ]
    },
    {
     "cell_type": "code",
     "collapsed": false,
     "input": [
      "from ipython_datatableswidget.widgets.datatables import DataTablesWidget, show_df"
     ],
     "language": "python",
     "metadata": {},
     "outputs": [],
     "prompt_number": 1
    },
    {
     "cell_type": "markdown",
     "metadata": {},
     "source": [
      "Then, create an instance of `DataTablesWidget`:"
     ]
    },
    {
     "cell_type": "code",
     "collapsed": false,
     "input": [
      "#datatablesExample = DataTablesWidget()"
     ],
     "language": "python",
     "metadata": {},
     "outputs": [],
     "prompt_number": 2
    },
    {
     "cell_type": "markdown",
     "metadata": {},
     "source": [
      "Display the widget:"
     ]
    },
    {
     "cell_type": "code",
     "collapsed": false,
     "input": [
      "import pandas as pd"
     ],
     "language": "python",
     "metadata": {},
     "outputs": [],
     "prompt_number": 3
    },
    {
     "cell_type": "code",
     "collapsed": false,
     "input": [
      "df = pd.DataFrame({'a': [1,2,3,4], 'b': ['Hello', 'I', 'am', 'Widget']})"
     ],
     "language": "python",
     "metadata": {},
     "outputs": [],
     "prompt_number": 4
    },
    {
     "cell_type": "code",
     "collapsed": false,
     "input": [
      "x = show_df(df)"
     ],
     "language": "python",
     "metadata": {},
     "outputs": [
      {
       "javascript": [
        "$(\"head\").append($(\"<link/>\").attr({\n",
        "  rel:  \"stylesheet\",\n",
        "  type: \"text/css\",\n",
        "  href: \"/nbextensions/ipython_datatableswidget/css/datatables.css\"\n",
        "}));\n",
        "IPython.load_extensions(\"ipython_datatableswidget/js/datatables\");"
       ],
       "metadata": {},
       "output_type": "display_data",
       "text": [
        "<IPython.core.display.Javascript at 0x7fba8225de10>"
       ]
      },
      {
       "output_type": "stream",
       "stream": "stderr",
       "text": [
        "/home/mniekerk/local/anaconda/envs/widgettest/lib/python2.7/site-packages/pandas/core/internals.py:961: FutureWarning: comparison to `None` will result in an elementwise object comparison in the future.\n",
        "  return self._try_coerce_result(func(values, other))\n"
       ]
      }
     ],
     "prompt_number": 5
    },
    {
     "cell_type": "code",
     "collapsed": false,
     "input": [
      "x"
     ],
     "language": "python",
     "metadata": {},
     "outputs": [],
     "prompt_number": 6
    },
    {
     "cell_type": "code",
     "collapsed": false,
     "input": [
      "dfB = pd.DataFrame({'column1': pd.np.random.normal(size=100)})"
     ],
     "language": "python",
     "metadata": {},
     "outputs": [],
     "prompt_number": 11
    },
    {
     "cell_type": "code",
     "collapsed": false,
     "input": [
      "DataTablesWidget(dfB.reset_index())"
     ],
     "language": "python",
     "metadata": {},
     "outputs": [
      {
       "javascript": [
        "$(\"head\").append($(\"<link/>\").attr({\n",
        "  rel:  \"stylesheet\",\n",
        "  type: \"text/css\",\n",
        "  href: \"/nbextensions/ipython_datatableswidget/css/datatables.css\"\n",
        "}));\n",
        "IPython.load_extensions(\"ipython_datatableswidget/js/datatables\");"
       ],
       "metadata": {},
       "output_type": "display_data",
       "text": [
        "<IPython.core.display.Javascript at 0x7fba81f5ec10>"
       ]
      }
     ],
     "prompt_number": 18
    },
    {
     "cell_type": "code",
     "collapsed": false,
     "input": [
      "DataTablesWidget(dfB)"
     ],
     "language": "python",
     "metadata": {},
     "outputs": [
      {
       "javascript": [
        "$(\"head\").append($(\"<link/>\").attr({\n",
        "  rel:  \"stylesheet\",\n",
        "  type: \"text/css\",\n",
        "  href: \"/nbextensions/ipython_datatableswidget/css/datatables.css\"\n",
        "}));\n",
        "IPython.load_extensions(\"ipython_datatableswidget/js/datatables\");"
       ],
       "metadata": {},
       "output_type": "display_data",
       "text": [
        "<IPython.core.display.Javascript at 0x7fba81f5e350>"
       ]
      }
     ],
     "prompt_number": 13
    },
    {
     "cell_type": "markdown",
     "metadata": {},
     "source": [
      "You can have more than one copy of your `DataTablesWidget`"
     ]
    },
    {
     "cell_type": "code",
     "collapsed": false,
     "input": [],
     "language": "python",
     "metadata": {},
     "outputs": []
    }
   ],
   "metadata": {}
  }
 ]
}
{
 "metadata": {
  "name": "",
  "signature": "sha256:f77e97d6795c04e094e071c7fca0c3fa9f5696e6344859d8fdde8c16a8f9e1b1"
 },
 "nbformat": 3,
 "nbformat_minor": 0,
 "worksheets": [
  {
   "cells": [
    {
     "cell_type": "markdown",
     "metadata": {},
     "source": [
      "# DataTables Widget Example"
     ]
    },
    {
     "cell_type": "markdown",
     "metadata": {},
     "source": [
      "> <i class=\"icon icon-info-sign icon-2x\"></i> Execute each of these cells in order, such as with <label class=\"label\">Shift+Enter</label>"
     ]
    },
    {
     "cell_type": "markdown",
     "metadata": {},
     "source": [
      "First, load your `DataTablesWidget` from your module:"
     ]
    },
    {
     "cell_type": "code",
     "collapsed": false,
     "input": [
      "from ipython_datatableswidget.widgets.datatables import DataTablesWidget, show_df"
     ],
     "language": "python",
     "metadata": {},
     "outputs": [],
     "prompt_number": 1
    },
    {
     "cell_type": "markdown",
     "metadata": {},
     "source": [
      "Then, create an instance of `DataTablesWidget`:"
     ]
    },
    {
     "cell_type": "code",
     "collapsed": false,
     "input": [
      "datatablesExample = DataTablesWidget()"
     ],
     "language": "python",
     "metadata": {},
     "outputs": [
      {
       "javascript": [
        "$(\"head\").append($(\"<link/>\").attr({\n",
        "  rel:  \"stylesheet\",\n",
        "  type: \"text/css\",\n",
        "  href: \"/nbextensions/ipython_datatableswidget/css/datatables.css\"\n",
        "}));\n",
        "IPython.load_extensions(\"ipython_datatableswidget/js/datatables\");"
       ],
       "metadata": {},
       "output_type": "display_data",
       "text": [
        "<IPython.core.display.Javascript at 0x4883940>"
       ]
      }
     ],
     "prompt_number": 2
    },
    {
     "cell_type": "markdown",
     "metadata": {},
     "source": [
      "Display the widget:"
     ]
    },
    {
     "cell_type": "code",
     "collapsed": false,
     "input": [
      "import pandas as pd"
     ],
     "language": "python",
     "metadata": {},
     "outputs": [],
     "prompt_number": 3
    },
    {
     "cell_type": "code",
     "collapsed": false,
     "input": [
      "df = pd.DataFrame({'a': [1,2,3,4], 'b': ['Hello', 'I', 'am', 'Widget']})"
     ],
     "language": "python",
     "metadata": {},
     "outputs": [],
     "prompt_number": 4
    },
    {
     "cell_type": "code",
     "collapsed": false,
     "input": [
      "show_df(df)"
     ],
     "language": "python",
     "metadata": {},
     "outputs": [
      {
       "javascript": [
        "$(\"head\").append($(\"<link/>\").attr({\n",
        "  rel:  \"stylesheet\",\n",
        "  type: \"text/css\",\n",
        "  href: \"/nbextensions/ipython_datatableswidget/css/datatables.css\"\n",
        "}));\n",
        "IPython.load_extensions(\"ipython_datatableswidget/js/datatables\");"
       ],
       "metadata": {},
       "output_type": "display_data",
       "text": [
        "<IPython.core.display.Javascript at 0x4810b38>"
       ]
      },
      {
       "output_type": "stream",
       "stream": "stderr",
       "text": [
        "C:\\Anaconda\\envs\\ipython-widget-hacking\\lib\\site-packages\\pandas-0.14.1-py2.7-win-amd64.egg\\pandas\\core\\internals.py:850: FutureWarning: comparison to `None` will result in an elementwise object comparison in the future.\n",
        "  return self._try_coerce_result(func(values, other))\n"
       ]
      }
     ],
     "prompt_number": 5
    },
    {
     "cell_type": "markdown",
     "metadata": {},
     "source": [
      "You can have more than one copy of your `DataTablesWidget`"
     ]
    },
    {
     "cell_type": "code",
     "collapsed": false,
     "input": [
      "show_df(df)"
     ],
     "language": "python",
     "metadata": {},
     "outputs": [
      {
       "javascript": [
        "$(\"head\").append($(\"<link/>\").attr({\n",
        "  rel:  \"stylesheet\",\n",
        "  type: \"text/css\",\n",
        "  href: \"/nbextensions/ipython_datatableswidget/css/datatables.css\"\n",
        "}));\n",
        "IPython.load_extensions(\"ipython_datatableswidget/js/datatables\");"
       ],
       "metadata": {},
       "output_type": "display_data",
       "text": [
        "<IPython.core.display.Javascript at 0x9f6c358>"
       ]
      }
     ],
     "prompt_number": 6
    },
    {
     "cell_type": "code",
     "collapsed": false,
     "input": [],
     "language": "python",
     "metadata": {},
     "outputs": []
    }
   ],
   "metadata": {}
  }
 ]
}